{
 "cells": [
  {
   "cell_type": "code",
   "execution_count": null,
   "id": "c5b559da-30de-406b-b22e-6796f2738441",
   "metadata": {
    "tags": []
   },
   "outputs": [],
   "source": [
    "!pip install scikit-learn"
   ]
  },
  {
   "cell_type": "code",
   "execution_count": null,
   "id": "c8b28445",
   "metadata": {
    "tags": []
   },
   "outputs": [],
   "source": [
    "import numpy as np \n",
    "import pandas as pd \n",
    "from sklearn.impute import KNNImputer\n",
    "from sklearn.preprocessing import OneHotEncoder\n",
    "import matplotlib.pyplot as plt\n",
    "import seaborn as sns\n",
    "from scipy.stats import skew, kurtosis\n",
    "from scipy.stats import zscore\n",
    "import matplotlib.pyplot as plt\n",
    "import seaborn as sns\n",
    "from scipy.stats import zscore\n",
    "from IPython.display import display\n",
    "from scipy.stats.mstats import winsorize\n",
    "import os"
   ]
  },
  {
   "cell_type": "code",
   "execution_count": null,
   "id": "c7b341d7",
   "metadata": {
    "tags": []
   },
   "outputs": [],
   "source": [
    "class DataPreProcessingAndEDA:\n",
    "    \"\"\"\n",
    "    Class for preprocessing and performing exploratory data analysis on pandas DataFrames.\n",
    "    Includes methods for data description, cleaning, and visualization.\n",
    "    \"\"\"\n",
    "\n",
    "    @staticmethod\n",
    "    def df_description(df):\n",
    "        \"\"\"\n",
    "        Prints the shape and data types of the DataFrame.\n",
    "        \"\"\"\n",
    "        print('Shape:', df.shape)\n",
    "        print('Data types:', '\\n', df.dtypes)\n",
    "\n",
    "    @staticmethod\n",
    "    def convert_col_names_to_lower_case(df):\n",
    "        \"\"\"\n",
    "        Converts DataFrame column names to lower case.\n",
    "        \"\"\"\n",
    "        return df.rename(columns={col: col.lower() for col in df.columns})\n",
    "\n",
    "    @staticmethod\n",
    "    def describe_data(df):\n",
    "        \"\"\"\n",
    "        Displays descriptive statistics of DataFrame.\n",
    "        \"\"\"\n",
    "        display(df.describe(include='all'))\n",
    "\n",
    "    @staticmethod\n",
    "    def data_info(df):\n",
    "        \"\"\"\n",
    "        Displays information about DataFrame.\n",
    "        \"\"\"\n",
    "        df.info(verbose=True, show_counts=True)\n",
    "\n",
    "    @staticmethod\n",
    "    def nulls_in_data(df):\n",
    "        \"\"\"\n",
    "        Prints the number of nulls in each column of the DataFrame.\n",
    "        \"\"\"\n",
    "        print(df.isnull().sum())\n",
    "\n",
    "    @staticmethod\n",
    "    def duplicate_rows_at_primary_key_level(df, level_of_the_data):\n",
    "        \"\"\"\n",
    "        Identifies and prints duplicate rows based on the specified primary key columns.\n",
    "        \"\"\"\n",
    "        duplicates = df[df.duplicated(subset=level_of_the_data, keep=False)]\n",
    "        if duplicates.shape[0] > 0:\n",
    "            print(\"DataFrame has duplicates, total rows with duplicates:\", duplicates.shape[0])\n",
    "        else:\n",
    "            print(\"No duplicates in data\")\n",
    "        return duplicates\n",
    "\n",
    "    @staticmethod\n",
    "    def percentage_nulls_in_each_col(df):\n",
    "        \"\"\"\n",
    "        Displays the percentage of nulls in each column of the DataFrame.\n",
    "        \"\"\"\n",
    "        na_count = df.isna().sum()\n",
    "        na_percent = (na_count / df.shape[0] * 100).apply(\"{:.2f}%\".format)\n",
    "        NA = pd.DataFrame({'NA Count': na_count, 'NA Percent': na_percent, 'Dtypes': df.dtypes})\n",
    "        display(NA)\n",
    "\n",
    "    @staticmethod\n",
    "    def drop_cols(df, column_list_to_drop):\n",
    "        \"\"\"\n",
    "        Drops specified columns from the DataFrame.\n",
    "        \"\"\"\n",
    "        return df.drop(columns=column_list_to_drop)\n",
    "\n",
    "    @staticmethod\n",
    "    def df_columns_and_dtypes_into_list(df):\n",
    "        \"\"\"\n",
    "        Returns a dictionary of DataFrame columns and their respective data types.\n",
    "        \"\"\"\n",
    "        return dict(zip(df.columns, map(str, df.dtypes)))\n",
    "\n",
    "    @staticmethod\n",
    "    def unique_entries_count_each_column(df):\n",
    "        \"\"\"\n",
    "        Returns a dictionary with column names as keys and the number of unique entries as values.\n",
    "        \"\"\"\n",
    "        return {col: df[col].nunique() for col in df.columns}\n",
    "\n",
    "\n",
    "    \n",
    "    @staticmethod\n",
    "    def value_counts_by_column(df, column_name):\n",
    "        \"\"\"\n",
    "        Returns the counts of unique values for the specified column using value_counts().\n",
    "        \"\"\"\n",
    "        return df[column_name].value_counts()\n",
    "\n",
    "\n",
    "    @staticmethod\n",
    "    def convert_column_to_string(df, column_name):\n",
    "        \"\"\"\n",
    "        Converts the specified column to string type.\n",
    "        \"\"\"\n",
    "        df[column_name] = df[column_name].astype(str)\n",
    "        return df\n",
    "\n",
    "    @staticmethod\n",
    "    def convert_column_to_numeric(df, column_name, numeric_type='float64'):\n",
    "        \"\"\"\n",
    "        Converts the specified column to a numeric type (int64 or float64).\n",
    "        \"\"\"\n",
    "        if numeric_type == 'int64':\n",
    "            df[column_name] = pd.to_numeric(df[column_name], errors='coerce').fillna(0).astype('int64')\n",
    "        else:\n",
    "            df[column_name] = pd.to_numeric(df[column_name], errors='coerce').fillna(0.0).astype('float64')\n",
    "        return df\n",
    "\n",
    "    @staticmethod\n",
    "    def check_distribution(df):\n",
    "        \"\"\"\n",
    "        Checks the distribution of numerical columns by calculating skewness and kurtosis, and plotting histograms.\n",
    "        \"\"\"\n",
    "        num_cols = df.select_dtypes(include=['float64', 'int64']).columns\n",
    "        results = []\n",
    "\n",
    "        for col in num_cols:\n",
    "            skewness = skew(df[col].dropna())\n",
    "            kurt = kurtosis(df[col].dropna())\n",
    "            results.append({'Variable': col, 'Skewness': skewness, 'Kurtosis': kurt})\n",
    "\n",
    "            plt.figure(figsize=(10, 6))\n",
    "            sns.histplot(df[col], kde=True, bins=30)\n",
    "            plt.title(f'Distribution of {col}')\n",
    "            plt.xlabel(col)\n",
    "            plt.ylabel('Frequency')\n",
    "            plt.grid(True)\n",
    "            plt.show()\n",
    "\n",
    "        return pd.DataFrame(results)\n",
    "\n",
    "    @staticmethod\n",
    "    def outlier_report(df):\n",
    "        \"\"\"\n",
    "        Generates a report of potential and definite outliers in numerical columns based on Z-scores.\n",
    "        \"\"\"\n",
    "        report = []\n",
    "        num_cols = df.select_dtypes(include=['float64', 'int64']).columns\n",
    "\n",
    "        for col in num_cols:\n",
    "            zs = zscore(df[col].dropna())\n",
    "            possible_outliers = ((zs >= 2) & (zs < 3)).sum()\n",
    "            definite_outliers = (zs >= 3).sum()\n",
    "            report.append({\n",
    "                'Numerical Variable': col,\n",
    "                'Possible Outliers': possible_outliers,\n",
    "                'Definite Outliers': definite_outliers,\n",
    "                'Total Outliers': possible_outliers + definite_outliers\n",
    "            })\n",
    "\n",
    "        return pd.DataFrame(report)\n",
    "\n",
    "    @staticmethod\n",
    "    def analyze_freight_cost_distribution(df, x_var):\n",
    "        \"\"\"\n",
    "        Analyzes and visualizes the distribution of 'freight cost (usd)' across categories of 'x_var'.\n",
    "        \"\"\"\n",
    "        df['freight cost (usd)'] = pd.to_numeric(df['freight cost (usd)'], errors='coerce')\n",
    "        valid_data = df.dropna(subset=['freight cost (usd)', x_var])\n",
    "\n",
    "        plt.figure(figsize=(20, 10))\n",
    "        sns.boxplot(x=x_var, y='freight cost (usd)', data=valid_data)\n",
    "        plt.title(f'Distribution of Freight Cost (USD) by {x_var}')\n",
    "        plt.xlabel(x_var)\n",
    "        plt.ylabel('Freight Cost (USD)')\n",
    "        plt.show()\n",
    "\n",
    "        return valid_data.groupby(x_var)['freight cost (usd)'].describe()\n",
    "\n",
    "    @staticmethod\n",
    "    def plot_and_analyze_data(df, x_var):\n",
    "        \"\"\"\n",
    "        Plots data and analyzes correlation between 'x_var' and 'freight cost (usd)'.\n",
    "        \"\"\"\n",
    "        df['freight cost (usd)'] = pd.to_numeric(df['freight cost (usd)'], errors='coerce')\n",
    "        df = df.dropna(subset=[x_var, 'freight cost (usd)'])\n",
    "\n",
    "        if df[x_var].dtype in [np.float64, np.int64]:\n",
    "            sns.boxplot(x=df[x_var])\n",
    "            plt.show()\n",
    "\n",
    "        sns.lmplot(x=x_var, y='freight cost (usd)', data=df)\n",
    "        plt.show()\n",
    "\n",
    "        return df[x_var].corr(df['freight cost (usd)'])\n",
    "\n",
    "    @staticmethod\n",
    "    def winsorize_dataframe(df, limits=(0.01, 0.01)):\n",
    "        \"\"\"\n",
    "        Applies winsorization to all numerical columns in the DataFrame to limit extreme values.\n",
    "        \"\"\"\n",
    "        winsorized_df = df.copy()\n",
    "        numerical_cols = df.select_dtypes(include=['float64', 'int64']).columns\n",
    "\n",
    "        for col in numerical_cols:\n",
    "            winsorized_df[col] = winsorize(df[col], limits=limits)\n",
    "\n",
    "        return winsorized_df\n",
    "    \n",
    "    @staticmethod\n",
    "    def convert_column_to_date(df, column_name, date_format=None):\n",
    "        \"\"\"\n",
    "        Converts the specified column to datetime type. Optionally, a specific date_format can be provided.\n",
    "        \"\"\"\n",
    "        df[column_name] = pd.to_datetime(df[column_name], format=date_format, errors='coerce')\n",
    "        return df\n"
   ]
  },
  {
   "cell_type": "markdown",
   "id": "2aa6b58f",
   "metadata": {},
   "source": [
    "# **`Loading, Reading and Cleaning the Dataset`**"
   ]
  },
  {
   "cell_type": "code",
   "execution_count": null,
   "id": "145aaba3-63ef-4bae-b4bd-9a841ed773e4",
   "metadata": {
    "tags": []
   },
   "outputs": [],
   "source": [
    "print(\"Previous Working Directory: \", os.getcwd())\n",
    "\n",
    "desired_path = '/home/jovyan/library/ist652/spring24/project'\n",
    "\n",
    "# Changing  the current working directory\n",
    "os.chdir(desired_path)\n",
    "\n",
    "print(\"Current Working Directory: \", os.getcwd())\n"
   ]
  },
  {
   "cell_type": "code",
   "execution_count": null,
   "id": "8069e972",
   "metadata": {
    "tags": []
   },
   "outputs": [],
   "source": [
    "df = pd.read_csv(\"./Supply_Chain_Shipment_Pricing_Dataset_20240325.csv\")"
   ]
  },
  {
   "cell_type": "code",
   "execution_count": null,
   "id": "0e9d70c2",
   "metadata": {
    "tags": []
   },
   "outputs": [],
   "source": [
    "df.head()"
   ]
  },
  {
   "cell_type": "code",
   "execution_count": null,
   "id": "dcbf0c55",
   "metadata": {
    "tags": []
   },
   "outputs": [],
   "source": [
    "eda = DataPreProcessingAndEDA()"
   ]
  },
  {
   "cell_type": "code",
   "execution_count": null,
   "id": "4cafa6f6",
   "metadata": {
    "tags": []
   },
   "outputs": [],
   "source": [
    "eda.data_info(df)"
   ]
  },
  {
   "cell_type": "markdown",
   "id": "b50a308f",
   "metadata": {},
   "source": [
    "**Insight**: From df.info() we can see that there are null values in the following columns - shipment mode, dosage, line item insurance."
   ]
  },
  {
   "cell_type": "code",
   "execution_count": null,
   "id": "134f85a0",
   "metadata": {
    "tags": []
   },
   "outputs": [],
   "source": [
    "eda.percentage_nulls_in_each_col(df)"
   ]
  },
  {
   "cell_type": "code",
   "execution_count": null,
   "id": "abb137a5",
   "metadata": {
    "tags": []
   },
   "outputs": [],
   "source": [
    "eda.df_description(df)"
   ]
  },
  {
   "cell_type": "code",
   "execution_count": null,
   "id": "610fce45",
   "metadata": {
    "tags": []
   },
   "outputs": [],
   "source": [
    "eda.describe_data(df)"
   ]
  },
  {
   "cell_type": "code",
   "execution_count": null,
   "id": "55457b4f",
   "metadata": {
    "tags": []
   },
   "outputs": [],
   "source": [
    "eda.nulls_in_data(df)"
   ]
  },
  {
   "cell_type": "code",
   "execution_count": null,
   "id": "1d566405",
   "metadata": {
    "tags": []
   },
   "outputs": [],
   "source": [
    "eda.df_columns_and_dtypes_into_list(df)"
   ]
  },
  {
   "cell_type": "code",
   "execution_count": null,
   "id": "d6313eed",
   "metadata": {
    "tags": []
   },
   "outputs": [],
   "source": [
    "eda.duplicate_rows_at_primary_key_level(df, 'id')"
   ]
  },
  {
   "cell_type": "code",
   "execution_count": null,
   "id": "60ec55cf",
   "metadata": {
    "tags": []
   },
   "outputs": [],
   "source": [
    "eda.value_counts_by_column(df, 'fulfill via')\n",
    "#Example"
   ]
  },
  {
   "cell_type": "code",
   "execution_count": null,
   "id": "40f7f967",
   "metadata": {
    "tags": []
   },
   "outputs": [],
   "source": [
    "eda.unique_entries_count_each_column(df)"
   ]
  },
  {
   "cell_type": "code",
   "execution_count": null,
   "id": "546b12c8",
   "metadata": {
    "tags": []
   },
   "outputs": [],
   "source": [
    "eda.value_counts_by_column(df, 'project code')\n",
    "#This column's datatype need not be converted to any other format. "
   ]
  },
  {
   "cell_type": "code",
   "execution_count": null,
   "id": "ad7ec97e",
   "metadata": {
    "tags": []
   },
   "outputs": [],
   "source": [
    "eda.value_counts_by_column(df, 'pq #')\n",
    "#No need to convert"
   ]
  },
  {
   "cell_type": "code",
   "execution_count": null,
   "id": "36218872",
   "metadata": {
    "tags": []
   },
   "outputs": [],
   "source": [
    "eda.value_counts_by_column(df, 'po / so #')\n",
    "#No need to convert"
   ]
  },
  {
   "cell_type": "code",
   "execution_count": null,
   "id": "ee4bc5ba",
   "metadata": {
    "tags": []
   },
   "outputs": [],
   "source": [
    "eda.value_counts_by_column(df, 'asn/dn #')\n",
    "#No need to convert"
   ]
  },
  {
   "cell_type": "code",
   "execution_count": null,
   "id": "a04a4b46",
   "metadata": {
    "tags": []
   },
   "outputs": [],
   "source": [
    "eda.value_counts_by_column(df, 'country')\n",
    "#No need to convert"
   ]
  },
  {
   "cell_type": "code",
   "execution_count": null,
   "id": "eddb5c13",
   "metadata": {
    "tags": []
   },
   "outputs": [],
   "source": [
    "eda.value_counts_by_column(df, 'managed by')"
   ]
  },
  {
   "cell_type": "code",
   "execution_count": null,
   "id": "d5fe41e1",
   "metadata": {
    "tags": []
   },
   "outputs": [],
   "source": [
    "eda.value_counts_by_column(df, 'fulfill via')"
   ]
  },
  {
   "cell_type": "code",
   "execution_count": null,
   "id": "142a49cd",
   "metadata": {
    "tags": []
   },
   "outputs": [],
   "source": [
    "eda.value_counts_by_column(df, 'vendor inco term')\n",
    "#Need to change acronyms"
   ]
  },
  {
   "cell_type": "code",
   "execution_count": null,
   "id": "6f270680",
   "metadata": {
    "tags": []
   },
   "outputs": [],
   "source": [
    "eda.value_counts_by_column(df, 'shipment mode')\n",
    "#no need to convert datatype"
   ]
  },
  {
   "cell_type": "code",
   "execution_count": null,
   "id": "10412f17",
   "metadata": {
    "tags": []
   },
   "outputs": [],
   "source": [
    "eda.value_counts_by_column(df, 'pq first sent to client date')\n",
    "#Need to convert to date"
   ]
  },
  {
   "cell_type": "code",
   "execution_count": null,
   "id": "cff68088",
   "metadata": {
    "tags": []
   },
   "outputs": [],
   "source": [
    "eda.value_counts_by_column(df, 'po sent to vendor date')\n",
    "#need to convert to date"
   ]
  },
  {
   "cell_type": "code",
   "execution_count": null,
   "id": "380cf5df",
   "metadata": {
    "tags": []
   },
   "outputs": [],
   "source": [
    "eda.value_counts_by_column(df, 'scheduled delivery date')\n",
    "#need to convert to date"
   ]
  },
  {
   "cell_type": "code",
   "execution_count": null,
   "id": "f9661a31",
   "metadata": {
    "tags": []
   },
   "outputs": [],
   "source": [
    "eda.value_counts_by_column(df, 'delivered to client date')\n",
    "#need to convert to date"
   ]
  },
  {
   "cell_type": "code",
   "execution_count": null,
   "id": "f30ed4f0",
   "metadata": {
    "tags": []
   },
   "outputs": [],
   "source": [
    "eda.value_counts_by_column(df, 'delivery recorded date')\n",
    "#need to convert to date"
   ]
  },
  {
   "cell_type": "code",
   "execution_count": null,
   "id": "a421fb27",
   "metadata": {
    "tags": []
   },
   "outputs": [],
   "source": [
    "eda.value_counts_by_column(df, 'product group')\n",
    "#no need to convert but should find acronyms"
   ]
  },
  {
   "cell_type": "code",
   "execution_count": null,
   "id": "758b75d3",
   "metadata": {
    "tags": []
   },
   "outputs": [],
   "source": [
    "eda.value_counts_by_column(df, 'sub classification')\n",
    "#no need to convert"
   ]
  },
  {
   "cell_type": "code",
   "execution_count": null,
   "id": "fc076166",
   "metadata": {
    "tags": []
   },
   "outputs": [],
   "source": [
    "eda.value_counts_by_column(df, 'vendor')\n",
    "#no need to convert"
   ]
  },
  {
   "cell_type": "code",
   "execution_count": null,
   "id": "545c699b",
   "metadata": {
    "tags": []
   },
   "outputs": [],
   "source": [
    "eda.value_counts_by_column(df, 'item description')\n",
    "#no need to convert"
   ]
  },
  {
   "cell_type": "code",
   "execution_count": null,
   "id": "cf6b2c0b",
   "metadata": {
    "tags": []
   },
   "outputs": [],
   "source": [
    "eda.value_counts_by_column(df, 'molecule/test type')\n",
    "#no need to convert"
   ]
  },
  {
   "cell_type": "code",
   "execution_count": null,
   "id": "3b814f2a",
   "metadata": {
    "tags": []
   },
   "outputs": [],
   "source": [
    "eda.value_counts_by_column(df, 'brand')\n",
    "#no need to convert"
   ]
  },
  {
   "cell_type": "code",
   "execution_count": null,
   "id": "4bad2d64",
   "metadata": {
    "tags": []
   },
   "outputs": [],
   "source": [
    "eda.value_counts_by_column(df, 'dosage')\n",
    "#no need to convert"
   ]
  },
  {
   "cell_type": "code",
   "execution_count": null,
   "id": "d7a2255b",
   "metadata": {
    "tags": []
   },
   "outputs": [],
   "source": [
    "eda.value_counts_by_column(df, 'dosage form')"
   ]
  },
  {
   "cell_type": "code",
   "execution_count": null,
   "id": "6708bb42",
   "metadata": {
    "tags": []
   },
   "outputs": [],
   "source": [
    "eda.value_counts_by_column(df, 'unit of measure (per pack)')\n",
    "#no need to convert"
   ]
  },
  {
   "cell_type": "code",
   "execution_count": null,
   "id": "a2e260bf",
   "metadata": {
    "tags": []
   },
   "outputs": [],
   "source": [
    "eda.value_counts_by_column(df, 'line item quantity')\n",
    "#no need to convert"
   ]
  },
  {
   "cell_type": "code",
   "execution_count": null,
   "id": "39f26266",
   "metadata": {
    "tags": []
   },
   "outputs": [],
   "source": [
    "eda.value_counts_by_column(df, 'line item value')\n",
    "#no need to convert"
   ]
  },
  {
   "cell_type": "code",
   "execution_count": null,
   "id": "e4d918da",
   "metadata": {
    "tags": []
   },
   "outputs": [],
   "source": [
    "eda.value_counts_by_column(df, 'pack price')\n",
    "#no need to convert"
   ]
  },
  {
   "cell_type": "code",
   "execution_count": null,
   "id": "5ef0ca21",
   "metadata": {
    "tags": []
   },
   "outputs": [],
   "source": [
    "eda.value_counts_by_column(df, 'unit price')\n",
    "#no need to convert"
   ]
  },
  {
   "cell_type": "code",
   "execution_count": null,
   "id": "1adb0f1e",
   "metadata": {
    "tags": []
   },
   "outputs": [],
   "source": [
    "eda.value_counts_by_column(df, 'manufacturing site')\n",
    "#no need to convert"
   ]
  },
  {
   "cell_type": "code",
   "execution_count": null,
   "id": "cf004683",
   "metadata": {
    "tags": []
   },
   "outputs": [],
   "source": [
    "eda.value_counts_by_column(df, 'first line designation')"
   ]
  },
  {
   "cell_type": "code",
   "execution_count": null,
   "id": "ec705bcf",
   "metadata": {
    "tags": []
   },
   "outputs": [],
   "source": [
    "eda.value_counts_by_column(df, 'weight (kilograms)')\n",
    "#should convert"
   ]
  },
  {
   "cell_type": "code",
   "execution_count": null,
   "id": "e5841956",
   "metadata": {
    "tags": []
   },
   "outputs": [],
   "source": [
    "eda.value_counts_by_column(df, 'freight cost (usd)')\n",
    "#should convert"
   ]
  },
  {
   "cell_type": "code",
   "execution_count": null,
   "id": "ca7721b8",
   "metadata": {
    "tags": []
   },
   "outputs": [],
   "source": [
    "eda.value_counts_by_column(df, 'line item insurance (usd)')\n",
    "#no need to convert"
   ]
  },
  {
   "cell_type": "markdown",
   "id": "446ebd4c",
   "metadata": {},
   "source": [
    "**`Insights`**: In the above lines of code, we have found information on the characteristics of our dataset, found out information about null values, about duplicates in our dataset, about count of unique values and other basic information about the data. In the following lines of code, we will be changing data types, replacing acronyms wherever needed, and dropping unnecessary columns. "
   ]
  },
  {
   "cell_type": "markdown",
   "id": "47cf2c96",
   "metadata": {},
   "source": [
    "**Changing Datatypes**"
   ]
  },
  {
   "cell_type": "code",
   "execution_count": null,
   "id": "2445ce62",
   "metadata": {
    "tags": []
   },
   "outputs": [],
   "source": [
    "eda.convert_column_to_numeric(df, 'weight (kilograms)', numeric_type='float64')"
   ]
  },
  {
   "cell_type": "code",
   "execution_count": null,
   "id": "f99c5616",
   "metadata": {
    "tags": []
   },
   "outputs": [],
   "source": [
    "eda.convert_column_to_numeric(df, 'freight cost (usd)', numeric_type='float64')"
   ]
  },
  {
   "cell_type": "code",
   "execution_count": null,
   "id": "4a324ff1",
   "metadata": {
    "tags": []
   },
   "outputs": [],
   "source": [
    "eda.df_columns_and_dtypes_into_list(df)"
   ]
  },
  {
   "cell_type": "code",
   "execution_count": null,
   "id": "57faa062",
   "metadata": {
    "tags": []
   },
   "outputs": [],
   "source": [
    "eda.convert_column_to_date(df,'scheduled delivery date')"
   ]
  },
  {
   "cell_type": "code",
   "execution_count": null,
   "id": "f000e8d1",
   "metadata": {
    "tags": []
   },
   "outputs": [],
   "source": [
    "eda.convert_column_to_date(df,'scheduled delivery date')"
   ]
  },
  {
   "cell_type": "code",
   "execution_count": null,
   "id": "e093e147",
   "metadata": {
    "tags": []
   },
   "outputs": [],
   "source": [
    "eda.convert_column_to_date(df,'delivered to client date')"
   ]
  },
  {
   "cell_type": "code",
   "execution_count": null,
   "id": "1c87964a",
   "metadata": {
    "tags": []
   },
   "outputs": [],
   "source": [
    "eda.convert_column_to_date(df,'delivery recorded date')"
   ]
  },
  {
   "cell_type": "code",
   "execution_count": null,
   "id": "3ec7bc54",
   "metadata": {
    "tags": []
   },
   "outputs": [],
   "source": [
    "eda.df_columns_and_dtypes_into_list(df)"
   ]
  },
  {
   "cell_type": "code",
   "execution_count": null,
   "id": "5fcfe33d",
   "metadata": {
    "tags": []
   },
   "outputs": [],
   "source": [
    "eda.nulls_in_data(df)"
   ]
  },
  {
   "cell_type": "code",
   "execution_count": null,
   "id": "388d7c0d",
   "metadata": {
    "tags": []
   },
   "outputs": [],
   "source": [
    "eda.value_counts_by_column(df, 'delivered to client date')"
   ]
  },
  {
   "cell_type": "code",
   "execution_count": null,
   "id": "641bf5e7",
   "metadata": {
    "tags": []
   },
   "outputs": [],
   "source": [
    "eda.value_counts_by_column(df, 'scheduled delivery date')"
   ]
  },
  {
   "cell_type": "code",
   "execution_count": null,
   "id": "09cfa428",
   "metadata": {
    "tags": []
   },
   "outputs": [],
   "source": [
    "eda.value_counts_by_column(df, 'delivery recorded date')"
   ]
  },
  {
   "cell_type": "markdown",
   "id": "5421cf9c",
   "metadata": {},
   "source": [
    "**Insights**: We have now converted the data types and have cross checked if the value counts have changed and we are good to go. In the next steps, we will remove the columns we dont need."
   ]
  },
  {
   "cell_type": "markdown",
   "id": "a872d1fb",
   "metadata": {},
   "source": [
    "**`Removing unnecessary columns`** \n",
    "We will be removing the following columns as they would not be interesting to us from a research question perspective. \n",
    "1) project code\n",
    "2) pq#\n",
    "3) po / so #\n",
    "4) asn/dn #\n",
    "5) pq first sent to client date\n",
    "6) po sent to vendor date\n",
    "7) dosage"
   ]
  },
  {
   "cell_type": "code",
   "execution_count": null,
   "id": "04eef022",
   "metadata": {
    "tags": []
   },
   "outputs": [],
   "source": [
    "column_list_to_drop = ['project code', 'pq #', 'po / so #', 'asn/dn #', 'pq first sent to client date',\n",
    "                       'po sent to vendor date', 'dosage']\n",
    "df = eda.drop_cols(df, column_list_to_drop)"
   ]
  },
  {
   "cell_type": "code",
   "execution_count": null,
   "id": "defcbc94-82d7-435b-9630-9807efa2d8cb",
   "metadata": {
    "tags": []
   },
   "outputs": [],
   "source": [
    "#checking the info., about columns after removing the columns\n",
    "df.info()"
   ]
  },
  {
   "cell_type": "code",
   "execution_count": null,
   "id": "9208d2a3",
   "metadata": {
    "tags": []
   },
   "outputs": [],
   "source": [
    "eda.df_columns_and_dtypes_into_list(df)"
   ]
  },
  {
   "cell_type": "markdown",
   "id": "12ab4b0e",
   "metadata": {},
   "source": [
    "**Insights**: In the above lines of code, we have removed the columns that we would not be using. \n",
    "Reasoning: Having id and columns like project code, pq#, po / so #, asn/dn # which are like secondary keys made no sense to us as we did not feel they would not affect cost much considering how many unique values each of them had. \n",
    "The columns pq first sent to client date and po sent to vendor date got more to do with order placements, rather than being the ones driving cost - and the data in the columns seemed incomplete as it had a lot of invalid date entries like not available, hence we decided to drop them. Additionally, we were focussed more on operational and logistical insights rather than clinical insights hence we decided to drop dosage too. In the next lines of code, we will be replacing some acronyms with what they actually mean for better understanding and ease of access considering these terms would not be known by all."
   ]
  },
  {
   "cell_type": "markdown",
   "id": "ba3e52b3",
   "metadata": {},
   "source": [
    "**`Dealing with abbreviations`**\n",
    "We will change the abbreviations for two columns - vendor inco group and product group into their elaborated names."
   ]
  },
  {
   "cell_type": "code",
   "execution_count": null,
   "id": "10114612",
   "metadata": {
    "tags": []
   },
   "outputs": [],
   "source": [
    "eda.value_counts_by_column(df, 'product group')"
   ]
  },
  {
   "cell_type": "markdown",
   "id": "f2f9c5b5",
   "metadata": {},
   "source": [
    "From research across the internet, we found out the following elaborations\n",
    "1) ACT: Artemisinin-based Combination Therapy\n",
    "2) ANTM: Anti-malarial medicine\n",
    "3) ARV: Anti-Retroviral Treatment\n",
    "4) HRDT: HIV Rapid Diagnostic Test\n",
    "5) MRDT: Malarial Rapid Diagnostic Test"
   ]
  },
  {
   "cell_type": "code",
   "execution_count": null,
   "id": "c7af6442",
   "metadata": {
    "tags": []
   },
   "outputs": [],
   "source": [
    "abbreviations = {\n",
    "    'ACT': 'Artemisinin-based Combination Therapy',\n",
    "    'ANTM': 'Anti-malarial medicine',\n",
    "    'ARV': 'Anti-Retroviral Treatment',\n",
    "    'HRDT': 'HIV Rapid Diagnostic Test',\n",
    "    'MRDT': 'Malarial Rapid Diagnostic Test'\n",
    "}\n",
    "df['product group'] = df['product group'].replace(abbreviations)"
   ]
  },
  {
   "cell_type": "code",
   "execution_count": null,
   "id": "8af2539a",
   "metadata": {
    "tags": []
   },
   "outputs": [],
   "source": [
    "eda.value_counts_by_column(df, 'product group')"
   ]
  },
  {
   "cell_type": "code",
   "execution_count": null,
   "id": "0e601059",
   "metadata": {
    "tags": []
   },
   "outputs": [],
   "source": [
    "eda.value_counts_by_column(df, 'vendor inco term')"
   ]
  },
  {
   "cell_type": "markdown",
   "id": "aa16d0c8",
   "metadata": {},
   "source": [
    "**Insights**: The column vendor inco terms contains Incoterms ® or International Commercial Terms, which are the common language of international trade. Established by the International Chamber of Commerce (ICC), they are standard terms which are commonly incorporated into contracts for the trade of goods around the world. We will replace their abbreviations with their elaborations."
   ]
  },
  {
   "cell_type": "code",
   "execution_count": null,
   "id": "64ac2e84",
   "metadata": {
    "tags": []
   },
   "outputs": [],
   "source": [
    "abbreviations1 = {\n",
    "    'EXW': 'Ex Works',\n",
    "    'FCA': 'Free Carrier',\n",
    "    'CIP': 'Carriage and Insurance Paid To',\n",
    "    'DAP': 'Delivery at Place',\n",
    "    'DDU': 'Delivery at Place Unloaded',\n",
    "    'DDP': 'Delivery Duty Paid',\n",
    "    'CIF': 'Cost, Insurance and Freight',\n",
    "    'N/A - From RDC': 'From Regional Distribution Center'\n",
    "}\n",
    "df['vendor inco term'] = df['vendor inco term'].replace(abbreviations1)"
   ]
  },
  {
   "cell_type": "code",
   "execution_count": null,
   "id": "f64a2c05",
   "metadata": {
    "tags": []
   },
   "outputs": [],
   "source": [
    "eda.value_counts_by_column(df, 'vendor inco term')"
   ]
  },
  {
   "cell_type": "code",
   "execution_count": null,
   "id": "9500f7e1-62e1-477a-9db4-219260e235e2",
   "metadata": {
    "tags": []
   },
   "outputs": [],
   "source": [
    "eda.value_counts_by_column(df, 'managed by')"
   ]
  },
  {
   "cell_type": "markdown",
   "id": "5c625b84",
   "metadata": {},
   "source": [
    "**Insight**: We have now changed the abbreviations to their elaborated forms. In the next steps, we will handle missing values. "
   ]
  },
  {
   "cell_type": "markdown",
   "id": "f741b442",
   "metadata": {},
   "source": [
    "# **`Handling Missing Values`**"
   ]
  },
  {
   "cell_type": "code",
   "execution_count": null,
   "id": "dbd55f63",
   "metadata": {
    "tags": []
   },
   "outputs": [],
   "source": [
    "eda.nulls_in_data(df)"
   ]
  },
  {
   "cell_type": "code",
   "execution_count": null,
   "id": "253a282c",
   "metadata": {
    "tags": []
   },
   "outputs": [],
   "source": [
    "eda.percentage_nulls_in_each_col(df)"
   ]
  },
  {
   "cell_type": "markdown",
   "id": "b85840b8",
   "metadata": {},
   "source": [
    "## **Handling Missing Values by Imputing Insurance Column**\n",
    "\n",
    "We have null values in two columns - 1) line item insurance (usd) - a numerical column for which we will be using KNN Imputer. 2) shipment mode - a categorical variable for which we will one hot encode it and then use KNN Imputer. "
   ]
  },
  {
   "cell_type": "code",
   "execution_count": null,
   "id": "5734e8c4",
   "metadata": {
    "tags": []
   },
   "outputs": [],
   "source": [
    "KNN_Imputer = KNNImputer(n_neighbors=5, weights='uniform')\n",
    "columns_to_impute = ['line item insurance (usd)']\n",
    "imputed_data = KNN_Imputer.fit_transform(df[columns_to_impute])\n",
    "df[columns_to_impute] = imputed_data"
   ]
  },
  {
   "cell_type": "code",
   "execution_count": null,
   "id": "cfb0e93c",
   "metadata": {
    "tags": []
   },
   "outputs": [],
   "source": [
    "df['line item insurance (usd)'].describe()"
   ]
  },
  {
   "cell_type": "code",
   "execution_count": null,
   "id": "c4788e5f",
   "metadata": {
    "tags": []
   },
   "outputs": [],
   "source": [
    "eda.percentage_nulls_in_each_col(df)"
   ]
  },
  {
   "cell_type": "markdown",
   "id": "1dee7011",
   "metadata": {},
   "source": [
    "**`Handling nulls and imputing shipment mode - a categorical variable`**"
   ]
  },
  {
   "cell_type": "code",
   "execution_count": null,
   "id": "963780ba",
   "metadata": {
    "tags": []
   },
   "outputs": [],
   "source": [
    "df[['shipment mode']] = df[['shipment mode']].fillna('Unavailable')"
   ]
  },
  {
   "cell_type": "code",
   "execution_count": null,
   "id": "b4f9bdf9",
   "metadata": {
    "tags": []
   },
   "outputs": [],
   "source": [
    "eda.percentage_nulls_in_each_col(df)"
   ]
  },
  {
   "cell_type": "markdown",
   "id": "54da24e4",
   "metadata": {},
   "source": [
    "**Insights**: In the above lines of code, we have handled missing values by replacing them with the term 'unavailable'. We will now do a preliminary set of EDA without handling outliers. "
   ]
  },
  {
   "cell_type": "markdown",
   "id": "9c00d213",
   "metadata": {},
   "source": [
    "### Initial EDA without outlier handling ###"
   ]
  },
  {
   "cell_type": "code",
   "execution_count": null,
   "id": "2c637dc8",
   "metadata": {
    "tags": []
   },
   "outputs": [],
   "source": [
    "eda.analyze_freight_cost_distribution(df, 'country')"
   ]
  },
  {
   "cell_type": "markdown",
   "id": "7b3b9d4a",
   "metadata": {},
   "source": [
    "**Insights**: Country seems to play a good role with respect to cost, considering how varied the numbers are. "
   ]
  },
  {
   "cell_type": "code",
   "execution_count": null,
   "id": "27d73f1c",
   "metadata": {
    "tags": []
   },
   "outputs": [],
   "source": [
    "eda.analyze_freight_cost_distribution(df, 'managed by')"
   ]
  },
  {
   "cell_type": "markdown",
   "id": "6167ace4",
   "metadata": {},
   "source": [
    "**Insights**: The managed by contains just four categories and almost all of the entries are from the PMO - US, considering how almost 99% of the dataset is from PMO - US, it does not make a lot of difference with respect to cost."
   ]
  },
  {
   "cell_type": "code",
   "execution_count": null,
   "id": "1c0a4254",
   "metadata": {
    "tags": []
   },
   "outputs": [],
   "source": [
    "eda.analyze_freight_cost_distribution(df, 'fulfill via')"
   ]
  },
  {
   "cell_type": "markdown",
   "id": "b12ee10b",
   "metadata": {},
   "source": [
    "**Insights**: There are just two categories in this column, both of them have similar counts, we can somewhat use this to predict cost, but there is not a lot of difference in mean or the medians of both categories. "
   ]
  },
  {
   "cell_type": "code",
   "execution_count": null,
   "id": "bf0f4584",
   "metadata": {
    "tags": []
   },
   "outputs": [],
   "source": [
    "eda.analyze_freight_cost_distribution(df, 'vendor inco term')"
   ]
  },
  {
   "cell_type": "markdown",
   "id": "9ec58dee",
   "metadata": {},
   "source": [
    "**Insight**: The vendor inco terms seems to have some variance wrt cost."
   ]
  },
  {
   "cell_type": "code",
   "execution_count": null,
   "id": "23c3ed86",
   "metadata": {
    "tags": []
   },
   "outputs": [],
   "source": [
    "eda.analyze_freight_cost_distribution(df, 'shipment mode')"
   ]
  },
  {
   "cell_type": "code",
   "execution_count": null,
   "id": "2b71c494",
   "metadata": {
    "tags": []
   },
   "outputs": [],
   "source": [
    "eda.analyze_freight_cost_distribution(df, 'product group')"
   ]
  },
  {
   "cell_type": "markdown",
   "id": "51783827",
   "metadata": {},
   "source": [
    "**Insights**: Nearly 85% of the dataset contains Anti Retroviral Treatment as product group, and another chunk contains HIV Rapid Diagnostic Test but there is considerable difference in the mean costs. "
   ]
  },
  {
   "cell_type": "code",
   "execution_count": null,
   "id": "b74798c8",
   "metadata": {
    "tags": []
   },
   "outputs": [],
   "source": [
    "eda.analyze_freight_cost_distribution(df, 'sub classification')"
   ]
  },
  {
   "cell_type": "markdown",
   "id": "e24782ac",
   "metadata": {},
   "source": [
    "**Insights**: This column is also somewhat similar to product group as in there is one major category but the other ones have a difference in mean costs."
   ]
  },
  {
   "cell_type": "code",
   "execution_count": null,
   "id": "222c4813",
   "metadata": {
    "tags": []
   },
   "outputs": [],
   "source": [
    "eda.analyze_freight_cost_distribution(df, 'vendor')"
   ]
  },
  {
   "cell_type": "code",
   "execution_count": null,
   "id": "c8f25489",
   "metadata": {
    "tags": []
   },
   "outputs": [],
   "source": [
    "eda.analyze_freight_cost_distribution(df, 'molecule/test type')"
   ]
  },
  {
   "cell_type": "code",
   "execution_count": null,
   "id": "b9d6dca7",
   "metadata": {
    "tags": []
   },
   "outputs": [],
   "source": [
    "eda.analyze_freight_cost_distribution(df, 'brand')"
   ]
  },
  {
   "cell_type": "code",
   "execution_count": null,
   "id": "e11d9a6b",
   "metadata": {
    "tags": []
   },
   "outputs": [],
   "source": [
    "eda.analyze_freight_cost_distribution(df, 'dosage form')"
   ]
  },
  {
   "cell_type": "code",
   "execution_count": null,
   "id": "7f7c87a4",
   "metadata": {
    "tags": []
   },
   "outputs": [],
   "source": [
    "eda.analyze_freight_cost_distribution(df, 'manufacturing site')"
   ]
  },
  {
   "cell_type": "markdown",
   "id": "4be3a0c2",
   "metadata": {},
   "source": [
    "**Insights**: All of the above columns show variability in costs. "
   ]
  },
  {
   "cell_type": "code",
   "execution_count": null,
   "id": "2a6909f8",
   "metadata": {
    "tags": []
   },
   "outputs": [],
   "source": [
    "eda.plot_and_analyze_data(df, 'unit of measure (per pack)')"
   ]
  },
  {
   "cell_type": "code",
   "execution_count": null,
   "id": "5c51b313",
   "metadata": {
    "tags": []
   },
   "outputs": [],
   "source": [
    "eda.plot_and_analyze_data(df, 'line item quantity')"
   ]
  },
  {
   "cell_type": "code",
   "execution_count": null,
   "id": "19cbd98a",
   "metadata": {
    "tags": []
   },
   "outputs": [],
   "source": [
    "eda.plot_and_analyze_data(df, 'line item value')"
   ]
  },
  {
   "cell_type": "code",
   "execution_count": null,
   "id": "0f55183a",
   "metadata": {
    "tags": []
   },
   "outputs": [],
   "source": [
    "eda.plot_and_analyze_data(df, 'pack price')"
   ]
  },
  {
   "cell_type": "code",
   "execution_count": null,
   "id": "2c5c0dd8",
   "metadata": {
    "tags": []
   },
   "outputs": [],
   "source": [
    "eda.plot_and_analyze_data(df, 'unit price')"
   ]
  },
  {
   "cell_type": "code",
   "execution_count": null,
   "id": "3f8c144e",
   "metadata": {
    "tags": []
   },
   "outputs": [],
   "source": [
    "eda.plot_and_analyze_data(df, 'weight (kilograms)')"
   ]
  },
  {
   "cell_type": "code",
   "execution_count": null,
   "id": "8343b3f6",
   "metadata": {
    "tags": []
   },
   "outputs": [],
   "source": [
    "eda.plot_and_analyze_data(df, 'line item insurance (usd)')"
   ]
  },
  {
   "cell_type": "markdown",
   "id": "93492769",
   "metadata": {},
   "source": [
    "**Insights**: Most of the numerical variables have weak correlations with cost. "
   ]
  },
  {
   "cell_type": "markdown",
   "id": "3a8c65df",
   "metadata": {},
   "source": [
    "### Outlier Handling ###"
   ]
  },
  {
   "cell_type": "code",
   "execution_count": null,
   "id": "6f65aef5",
   "metadata": {
    "tags": []
   },
   "outputs": [],
   "source": [
    "eda.outlier_report(df)"
   ]
  },
  {
   "cell_type": "code",
   "execution_count": null,
   "id": "df08d415",
   "metadata": {
    "tags": []
   },
   "outputs": [],
   "source": [
    "df = eda.winsorize_dataframe(df, limits=(0.05, 0.05))"
   ]
  },
  {
   "cell_type": "markdown",
   "id": "9a1595d9",
   "metadata": {},
   "source": [
    "**Insights**: We looked for outliers and winsorized the outliers to 5% and 95% of the mean. "
   ]
  },
  {
   "cell_type": "markdown",
   "id": "1638891a",
   "metadata": {},
   "source": [
    "### Feature Engineering ###\n",
    "Our feature engineering is focussed mainly on countries, and the date columns. We will group countries by continent and then for dates, we will try to find differences in delivery dates to check if they affect costs. "
   ]
  },
  {
   "cell_type": "code",
   "execution_count": null,
   "id": "7fa624a9",
   "metadata": {
    "tags": []
   },
   "outputs": [],
   "source": [
    "country_to_continent = {\n",
    "    'Afghanistan': 'Asia',\n",
    "    'Angola': 'Africa',\n",
    "    'Belize': 'North America',\n",
    "    'Benin': 'Africa',\n",
    "    'Botswana': 'Africa',\n",
    "    'Burkina Faso': 'Africa',\n",
    "    'Burundi': 'Africa',\n",
    "    'Cameroon': 'Africa',\n",
    "    'Congo, DRC': 'Africa',\n",
    "    'Côte d\\'Ivoire': 'Africa',\n",
    "    'Dominican Republic': 'North America',\n",
    "    'Ethiopia': 'Africa',\n",
    "    'Ghana': 'Africa',\n",
    "    'Guatemala': 'North America',\n",
    "    'Guinea': 'Africa',\n",
    "    'Guyana': 'South America',\n",
    "    'Haiti': 'North America',\n",
    "    'Kazakhstan': 'Asia',\n",
    "    'Kenya': 'Africa',\n",
    "    'Kyrgyzstan': 'Asia',\n",
    "    'Lebanon': 'Asia',\n",
    "    'Lesotho': 'Africa',\n",
    "    'Liberia': 'Africa',\n",
    "    'Libya': 'Africa',\n",
    "    'Malawi': 'Africa',\n",
    "    'Mali': 'Africa',\n",
    "    'Mozambique': 'Africa',\n",
    "    'Namibia': 'Africa',\n",
    "    'Nigeria': 'Africa',\n",
    "    'Pakistan': 'Asia',\n",
    "    'Rwanda': 'Africa',\n",
    "    'Senegal': 'Africa',\n",
    "    'Sierra Leone': 'Africa',\n",
    "    'South Africa': 'Africa',\n",
    "    'South Sudan': 'Africa',\n",
    "    'Sudan': 'Africa',\n",
    "    'Swaziland': 'Africa',\n",
    "    'Tanzania': 'Africa',\n",
    "    'Togo': 'Africa',\n",
    "    'Uganda': 'Africa',\n",
    "    'Vietnam': 'Asia',\n",
    "    'Zambia': 'Africa',\n",
    "    'Zimbabwe': 'Africa'\n",
    "}"
   ]
  },
  {
   "cell_type": "code",
   "execution_count": null,
   "id": "83f92cf8",
   "metadata": {
    "tags": []
   },
   "outputs": [],
   "source": [
    "df['continent'] = df['country'].map(country_to_continent)\n",
    "print(df[['country', 'continent']])"
   ]
  },
  {
   "cell_type": "code",
   "execution_count": null,
   "id": "3a446b45-b071-4f4b-a35e-71017ccc72c4",
   "metadata": {
    "tags": []
   },
   "outputs": [],
   "source": [
    "eda.value_counts_by_column(df, 'continent')"
   ]
  },
  {
   "cell_type": "markdown",
   "id": "dd0999c9",
   "metadata": {},
   "source": [
    "**Insights**: We have now mapped the countries to their respective continents. "
   ]
  },
  {
   "cell_type": "code",
   "execution_count": null,
   "id": "27bdb148",
   "metadata": {
    "tags": []
   },
   "outputs": [],
   "source": [
    "eda.analyze_freight_cost_distribution(df, 'continent')"
   ]
  },
  {
   "cell_type": "markdown",
   "id": "179e2615",
   "metadata": {},
   "source": [
    "**Insights**: Makes sense add points** Add insights**"
   ]
  },
  {
   "cell_type": "code",
   "execution_count": null,
   "id": "d53475bb",
   "metadata": {
    "tags": []
   },
   "outputs": [],
   "source": [
    "df['days between scheduled and delivered'] = (df['delivered to client date'] - df['scheduled delivery date']).dt.days\n",
    "df['days between delivered and recorded'] = (df['delivery recorded date'] - df['delivered to client date']).dt.days\n"
   ]
  },
  {
   "cell_type": "code",
   "execution_count": null,
   "id": "3df61912",
   "metadata": {
    "tags": []
   },
   "outputs": [],
   "source": [
    "eda.plot_and_analyze_data(df, 'days between delivered and recorded')"
   ]
  },
  {
   "cell_type": "code",
   "execution_count": null,
   "id": "4a203a30",
   "metadata": {
    "tags": []
   },
   "outputs": [],
   "source": [
    "eda.plot_and_analyze_data(df, 'days between scheduled and delivered')"
   ]
  },
  {
   "cell_type": "code",
   "execution_count": null,
   "id": "1f1e33a0",
   "metadata": {
    "tags": []
   },
   "outputs": [],
   "source": [
    "eda.percentage_nulls_in_each_col(df)"
   ]
  },
  {
   "cell_type": "markdown",
   "id": "845c9c11",
   "metadata": {},
   "source": [
    "### We are now done with EDA, data processing. We now start to answer our research questions. ###"
   ]
  },
  {
   "cell_type": "code",
   "execution_count": null,
   "id": "2f09acc6",
   "metadata": {
    "tags": []
   },
   "outputs": [],
   "source": [
    "# Grouping by country and calculate mean costs\n",
    "mean_costs_by_country = df.groupby('country')['freight cost (usd)'].mean().reset_index()\n",
    "\n",
    "# Finding the median costs by country\n",
    "median_costs_by_country = df.groupby('country')['freight cost (usd)'].median().reset_index()\n",
    "\n",
    "print(mean_costs_by_country)"
   ]
  },
  {
   "cell_type": "code",
   "execution_count": null,
   "id": "0bd0b602",
   "metadata": {
    "tags": []
   },
   "outputs": [],
   "source": [
    "# Grouping by country and calculate mean costs\n",
    "mean_costs_by_country = df.groupby('continent')['freight cost (usd)'].mean().reset_index()\n",
    "\n",
    "# Finding the median costs by country\n",
    "median_costs_by_country = df.groupby('continent')['freight cost (usd)'].median().reset_index()\n",
    "\n",
    "print(mean_costs_by_country)"
   ]
  },
  {
   "cell_type": "code",
   "execution_count": null,
   "id": "b4fb457c",
   "metadata": {
    "tags": []
   },
   "outputs": [],
   "source": [
    "# Grouping by shipment mode and calculating mean costs\n",
    "mean_costs_by_mode = df.groupby('shipment mode')['freight cost (usd)'].mean().reset_index()\n",
    "mean_costs_by_mode"
   ]
  },
  {
   "cell_type": "code",
   "execution_count": null,
   "id": "e7336a02",
   "metadata": {
    "tags": []
   },
   "outputs": [],
   "source": [
    "#grouping by product group and calculating the mean costs\n",
    "mean_costs_by_product_group = df.groupby('product group')['freight cost (usd)'].mean().reset_index()"
   ]
  },
  {
   "cell_type": "code",
   "execution_count": null,
   "id": "bf22c3d4",
   "metadata": {
    "tags": []
   },
   "outputs": [],
   "source": [
    "# Costs by Shipment Mode\n",
    "plt.figure(figsize=(10, 6))\n",
    "sns.barplot(x='shipment mode', y='freight cost (usd)', data=mean_costs_by_mode)\n",
    "plt.title('Mean Freight Costs by Shipment Mode')\n",
    "plt.xticks(rotation=45)  # Rotate labels if they overlap\n",
    "plt.show()"
   ]
  },
  {
   "cell_type": "code",
   "execution_count": null,
   "id": "60ed14a0",
   "metadata": {
    "tags": []
   },
   "outputs": [],
   "source": [
    "#costs by product_group\n",
    "plt.figure(figsize=(12, 8)) \n",
    "sns.barplot(x='product group', y='freight cost (usd)', data=mean_costs_by_product_group, palette='muted')\n",
    "plt.title('Mean Freight Costs by Product Group')\n",
    "plt.xlabel('Product Group')\n",
    "plt.ylabel('Mean Freight Cost (USD)')\n",
    "plt.xticks(rotation=45)  # Rotate the x-axis labels for better readability if necessary\n",
    "\n",
    "plt.show()"
   ]
  },
  {
   "cell_type": "code",
   "execution_count": null,
   "id": "e39caeb5",
   "metadata": {
    "tags": []
   },
   "outputs": [],
   "source": [
    "import seaborn as sns\n",
    "import matplotlib.pyplot as plt\n",
    "\n",
    "plt.figure(figsize=(10, 6))\n",
    "sns.scatterplot(data=df, x='line item value', y='freight cost (usd)')\n",
    "plt.title('Freight Cost (USD) vs. Line Item Value')\n",
    "plt.xlabel('Line Item Value')\n",
    "plt.ylabel('Freight Cost (USD)')\n",
    "plt.show()"
   ]
  },
  {
   "cell_type": "code",
   "execution_count": null,
   "id": "5db34d99",
   "metadata": {
    "tags": []
   },
   "outputs": [],
   "source": [
    "import pandas as pd\n",
    "from scipy.stats import zscore\n",
    "from scipy.stats.mstats import winsorize\n",
    "\n",
    "# Function to generate an outlier report\n",
    "def outlier_report(df):\n",
    "    report = []\n",
    "    for col in df.select_dtypes(include=['float64', 'int64']).columns:\n",
    "        zs = zscore(df[col])\n",
    "        possible_outliers = ((zs >= 2) & (zs < 3)).sum()\n",
    "        definite_outliers = (zs >= 3).sum()\n",
    "        report.append({\n",
    "            'Numerical Variable': col,\n",
    "            'Possible Outliers': possible_outliers,\n",
    "            'Definite Outliers': definite_outliers,\n",
    "            'Total Outliers': possible_outliers + definite_outliers\n",
    "        })\n",
    "    return pd.DataFrame(report)\n",
    "\n",
    "# Function to apply winsorization to all numerical columns in the DataFrame\n",
    "def winsorize_dataframe(df, limits=(0.01, 0.01)):\n",
    "    winsorized_df = df.copy()  # Creating a copy to avoid changing the original DataFrame\n",
    "    numerical_cols = df.select_dtypes(include=['float64', 'int64']).columns\n",
    "    \n",
    "    for col in numerical_cols:\n",
    "        # Applying winsorization\n",
    "        winsorized_data = winsorize(df[col], limits=limits)\n",
    "        winsorized_df[col] = winsorized_data\n",
    "    \n",
    "    return winsorized_df\n",
    "\n",
    "# Applying the winsorization function to the DataFrame\n",
    "df_winsorized = winsorize_dataframe(df, limits=(0.01, 0.01))\n",
    "\n"
   ]
  },
  {
   "cell_type": "code",
   "execution_count": null,
   "id": "e96bf7ee",
   "metadata": {
    "tags": []
   },
   "outputs": [],
   "source": [
    "plot_and_analyze_data(df_winsorized, 'line item quantity')"
   ]
  },
  {
   "cell_type": "code",
   "execution_count": null,
   "id": "9fee0163",
   "metadata": {
    "tags": []
   },
   "outputs": [],
   "source": [
    "plot_and_analyze_data(df_winsorized, 'weight (kilograms)')"
   ]
  },
  {
   "cell_type": "code",
   "execution_count": null,
   "id": "0e1f1ba2",
   "metadata": {
    "tags": []
   },
   "outputs": [],
   "source": [
    "plot_and_analyze_data(df_winsorized, 'unit of measure (per pack)')"
   ]
  },
  {
   "cell_type": "markdown",
   "id": "e868e8e2-460e-4cb0-a33f-59af9282cfc1",
   "metadata": {},
   "source": [
    "## **Research Question 3:**\n",
    "    \n",
    "**Vendor and Manufacturing Analysis: Which vendors are most commonly used, and how do they correlate with shipment(freight) costs and shipment speed?**"
   ]
  },
  {
   "cell_type": "markdown",
   "id": "90c1b2a0-a34f-4c8f-869d-e7fd2f89a7e6",
   "metadata": {},
   "source": [
    "First, we wanted to take a look at how and if **vendor inco terms**  have an impact on freight/shipping costs.  For example, certain Incoterms might correlate with higher or lower shipping costs."
   ]
  },
  {
   "cell_type": "markdown",
   "id": "ad52fa74-8565-40e6-aad4-de04427df672",
   "metadata": {},
   "source": [
    "**A liitle bit about \"Vendor Inco terms\"**\n",
    "\n",
    "**\"Vendor Incoterms\"** refers to International Commercial Terms (Incoterms) which are predefined, internationally recognized terms published by the International Chamber of Commerce (ICC). They are used to communicate the tasks, costs, and risks associated with the transportation and delivery of goods in international trade.\n",
    "\n",
    "**Ex Works (EXW):** The seller makes the goods available at their premises. The buyer is responsible for all transportation costs and risks, including loading the goods onto a vehicle and customs clearance for export.\n",
    "\n",
    "**Free Carrier (FCA):** The seller hands over the goods, cleared for export, to the buyer's chosen carrier at a specified location. From that point, the buyer assumes the cost and risk of transportation.\n",
    "\n",
    "**Delivery at Place (DAP):** The seller delivers the goods to a destination specified by the buyer, and assumes all risks and costs until the goods are ready for unloading. The buyer is responsible for unloading and import clearance.\n",
    "\n",
    "**Delivery at Place Unloaded (DPU):** Similar to DAP, except the seller is responsible for unloading the goods at the destination. This is the only Incoterm that requires the seller to unload the goods.\n",
    "\n",
    "**Delivery Duty Paid (DDP):** The seller delivers the goods to the buyer, cleared for import, and ready at the named destination. The seller bears all costs and risks involved in bringing the goods to the destination, including import duties and taxes.\n",
    "\n",
    "**Carriage and Insurance Paid To (CIP):** The seller pays for the carriage and insurance to the named destination point, but risk passes to the buyer once the goods have been handed over to the first carrier.\n",
    "\n",
    "**Cost, Insurance, and Freight (CIF):** The seller arranges and pays for transportation to the port of destination. The seller also provides insurance for the goods until they reach the destination port. However, the risk passes to the buyer as soon as the goods are loaded onto the shipping vessel.\n",
    "\n",
    "**From Regional Distribution Center:** This term is not a standard Incoterm and could refer to a specific arrangement where the goods are shipped from a regional distribution center. The exact terms would depend on the contract or agreement in place.\n",
    "\n",
    "Incoterms are key in international trade as they determine how far along the process the seller is required to bear the cost and risk, and at which point these responsibilities shift to the buyer. They are essential for clear communication in contracts of sale and can significantly affect the cost and risk profiles of transactions.\n",
    "\n",
    "\n",
    "\n",
    "\n",
    "\n",
    "\n",
    "\n",
    "\n"
   ]
  },
  {
   "cell_type": "code",
   "execution_count": null,
   "id": "a8106d2c-f872-42b7-95e4-ff447e7792b2",
   "metadata": {
    "tags": []
   },
   "outputs": [],
   "source": [
    "# Grouping data by 'vendor inco term' and calculate mean freight costs\n",
    "\n",
    "grouped_data = df.groupby('vendor inco term')['freight cost (usd)'].agg(['mean', 'median', 'std', 'min', 'max'])\n",
    "\n",
    "df_renamed = df.rename(columns={'freight cost (usd)': 'freight_cost_usd', 'vendor inco term': 'vendor_inco_term'})\n",
    "\n",
    "# Visualize the freight cost distribution across different incoterms\n",
    "# Use the renamed column names for the visualization.\n",
    "sns.boxplot(x='vendor_inco_term', y='freight_cost_usd', data=df_renamed)\n",
    "plt.xticks(rotation=45)\n",
    "plt.show()"
   ]
  },
  {
   "cell_type": "markdown",
   "id": "a86f4fea-e2b2-4aa0-8714-d2aa33ed5ff7",
   "metadata": {},
   "source": [
    "#### **Insights** \n",
    "\n",
    "**Variability:** The incoterm \"Ex Works\" shows a significantly higher variability in freight costs compared to the others, as evidenced by the long box and the extended upper whisker. This indicates that for \"Ex Works\", the freight cost can vary widely from one shipment to another.\n",
    "\n",
    "**Comparing Means and Medians:**  The incoterms with the highest average freight costs are \"Ex Works\" and \"From Regional Distribution Center\", which could be due to these terms requiring the buyer to arrange for transportation, possibly incurring additional costs for coordination and logistics.\n",
    "\n",
    "The boxplot does not directly show correlation, which is a statistical measure of the strength and direction of a linear relationship between two variables. However, it does show that different incoterms are associated with different freight cost structures.\n",
    "\n"
   ]
  },
  {
   "cell_type": "markdown",
   "id": "1f56aa7f-817f-465f-a046-af248dd99de1",
   "metadata": {},
   "source": [
    "### **Next step in vendor analysis**\n",
    "\n",
    "The next step involves identifying the most frequently utilized vendors and assessing whether there is any variation in freight costs associated with each vendor.\n",
    "\n",
    "\n",
    "\n",
    "\n",
    "\n",
    "\n"
   ]
  },
  {
   "cell_type": "code",
   "execution_count": null,
   "id": "0b618946-15a2-41b9-a30b-15516c54de03",
   "metadata": {
    "tags": []
   },
   "outputs": [],
   "source": [
    "pd.set_option('display.max_rows', 100)\n",
    "eda.value_counts_by_column(df, 'vendor')"
   ]
  },
  {
   "cell_type": "markdown",
   "id": "79073f1c-1a5a-46d5-86e9-03680c8908b6",
   "metadata": {},
   "source": [
    "**Observation:** \n",
    "\n",
    "We've observed that there are 73 different vendors, with many having relatively low transaction volumes (i.e., 1-100 transactions). To enhance our analysis, we're filtering out the less frequently used vendors. By limiting the analysis to the most common vendors, we are trying to obtain a clearer understanding of the freight costs trends and outliers without the noise from vendors with very few records."
   ]
  },
  {
   "cell_type": "code",
   "execution_count": null,
   "id": "19d3220e-b673-4880-81d2-e7252283e8a6",
   "metadata": {
    "tags": []
   },
   "outputs": [],
   "source": [
    "#Setting a threshold for the minimum count to consider a vendor 'frequent'\n",
    "threshold = 100  \n",
    "\n",
    "# Finding vendors that occur at least 'threshold' times\n",
    "frequent_vendors = df['vendor'].value_counts()\n",
    "frequent_vendors = frequent_vendors[frequent_vendors >= threshold].index.tolist()\n",
    "\n",
    "#printing frequent vendors.\n",
    "\n",
    "print(frequent_vendors)\n",
    "\n",
    "\n",
    "# Filtering the DataFrame to only include these vendors\n",
    "df_frequent_vendors = df[df['vendor'].isin(frequent_vendors)]\n",
    "\n",
    "# Now analyze the freight costs for these vendors\n",
    "plt.figure(figsize=(15, 10))  # Adjust the size as needed\n",
    "sns.boxplot(x='vendor', y='freight cost (usd)', data=df_frequent_vendors)\n",
    "plt.xticks(rotation=90)  \n",
    "plt.title('Freight Cost Distribution for Frequent Vendors')\n",
    "plt.xlabel('Vendor')\n",
    "plt.ylabel('Freight Cost (USD)')\n",
    "plt.tight_layout() \n",
    "plt.show()"
   ]
  },
  {
   "cell_type": "code",
   "execution_count": null,
   "id": "9662891c-9e09-47e6-9cc3-39e892285b47",
   "metadata": {
    "tags": []
   },
   "outputs": [],
   "source": [
    "# Filter to include only the most frequent vendors, as identified earlier\n",
    "frequent_vendors = df['vendor'].value_counts().head(15).index\n",
    "df_frequent = df[df['vendor'].isin(frequent_vendors)]\n",
    "\n",
    "# Create a new column in the DataFrame that combines vendor and continent\n",
    "df_frequent['vendor_continent'] = df_frequent['vendor'] + \" - \" + df_frequent['continent']\n",
    "\n",
    "# Plotting the boxplot\n",
    "plt.figure(figsize=(15, 10))\n",
    "sns.boxplot(data=df_frequent, x='vendor_continent', y='freight cost (usd)')\n",
    "plt.xticks(rotation=90)\n",
    "plt.title('Freight Cost Distribution for Frequent Vendors by Continent')\n",
    "plt.xlabel('Vendor - Continent')\n",
    "plt.ylabel('Freight Cost (USD)')\n",
    "plt.grid(True)\n",
    "plt.tight_layout()  # Adjust layout to fit the labels and title\n",
    "plt.show()"
   ]
  },
  {
   "cell_type": "markdown",
   "id": "a685426e-c055-4c04-9c8d-b61f94a284a5",
   "metadata": {},
   "source": [
    "### ** Vendors vs continents**"
   ]
  },
  {
   "cell_type": "code",
   "execution_count": null,
   "id": "b2ef39f3-d597-4de9-91ae-093485451fbb",
   "metadata": {
    "tags": []
   },
   "outputs": [],
   "source": [
    "frequent_vendors = df['vendor'].value_counts().head(15).index\n",
    "df_frequent = df[df['vendor'].isin(frequent_vendors)]\n",
    "\n",
    "def plot_continent_vendors(df, continent_name):\n",
    "    df_continent = df[df['continent'] == continent_name]\n",
    "    \n",
    "    plt.figure(figsize=(15, 10))\n",
    "    sns.boxplot(data=df_continent, x='vendor', y='freight cost (usd)')\n",
    "    plt.xticks(rotation=90)\n",
    "    plt.title(f'Freight Cost Distribution for Vendors in {continent_name}')\n",
    "    plt.xlabel('Vendor')\n",
    "    plt.ylabel('Freight Cost (USD)')\n",
    "    plt.grid(True)\n",
    "    plt.tight_layout()\n",
    "    plt.show()\n",
    "\n",
    "# List of continents\n",
    "continents = ['Africa', 'North America', 'Asia', 'South America']\n",
    "\n",
    "# Generate a boxplot for each continent\n",
    "for continent in continents:\n",
    "    plot_continent_vendors(df, continent)\n"
   ]
  },
  {
   "cell_type": "markdown",
   "id": "cfe96a0e-c79b-49f0-8048-1398399585a6",
   "metadata": {
    "tags": []
   },
   "source": [
    "### **vendor vs product group**"
   ]
  },
  {
   "cell_type": "code",
   "execution_count": null,
   "id": "424b9fb6-9b7f-482c-b1d4-35729a50d021",
   "metadata": {
    "tags": []
   },
   "outputs": [],
   "source": [
    "eda.value_counts_by_column(df, 'product group')"
   ]
  },
  {
   "cell_type": "code",
   "execution_count": null,
   "id": "1192fa42-8730-4d5e-9ad5-0415ba8bc96b",
   "metadata": {
    "tags": []
   },
   "outputs": [],
   "source": [
    "def plot_product_group_freight_costs(df, product_group_name):\n",
    "    df_group = df[df['product group'] == product_group_name]\n",
    "    \n",
    "    plt.figure(figsize=(15, 10))\n",
    "    sns.boxplot(data=df_group, x='vendor', y='freight cost (usd)')\n",
    "    plt.xticks(rotation=90)\n",
    "    plt.title(f'Freight Cost Distribution for {product_group_name}')\n",
    "    plt.xlabel('Vendor')\n",
    "    plt.ylabel('Freight Cost (USD)')\n",
    "    plt.grid(True)\n",
    "    plt.tight_layout()  # Adjust layout to fit the labels and title\n",
    "    plt.show()\n",
    "\n",
    "# List of product groups based on your dataset\n",
    "product_groups = ['Anti-Retroviral Treatment', 'HIV Rapid Diagnostic Test', \n",
    "                  'Anti-malarial medicine', 'Artemisinin-based Combination Therapy', \n",
    "                  'Malarial Rapid Diagnostic Test']\n",
    "\n",
    "# Generate a boxplot for each product group\n",
    "for product_group in product_groups:\n",
    "    plot_product_group_freight_costs(df, product_group)\n"
   ]
  },
  {
   "cell_type": "markdown",
   "id": "881ea49c-b12b-4035-afa1-f662d23bae6c",
   "metadata": {},
   "source": [
    "### Next step is to check if shipment speed differs from vendor to vendor."
   ]
  },
  {
   "cell_type": "code",
   "execution_count": null,
   "id": "35d7fc1d-fe37-447a-afda-ee6971711f31",
   "metadata": {
    "tags": []
   },
   "outputs": [],
   "source": [
    "df.info()"
   ]
  },
  {
   "cell_type": "code",
   "execution_count": null,
   "id": "4c486ea2-58b6-4314-b53d-91bcd07aa3f3",
   "metadata": {
    "tags": []
   },
   "outputs": [],
   "source": [
    "frequent_vendors"
   ]
  },
  {
   "cell_type": "code",
   "execution_count": null,
   "id": "12babd4a-56a4-4da0-bc13-cf9d5d88625f",
   "metadata": {
    "tags": []
   },
   "outputs": [],
   "source": [
    "# Finding vendors that occur at least 'threshold' times\n",
    "frequent_vendors = df['vendor'].value_counts()\n",
    "frequent_vendors = frequent_vendors[frequent_vendors >= threshold].index.tolist()\n",
    "\n",
    "#printing frequent vendors.\n",
    "\n",
    "print(frequent_vendors)\n",
    "\n",
    "\n",
    "# Filtering the DataFrame to only include these vendors\n",
    "df_frequent_vendors = df[df['vendor'].isin(frequent_vendors)]\n",
    "\n",
    "# Calculate the average 'days between scheduled and delivered' for each vendor\n",
    "vendor_delivery_speed_avg = df_frequent_vendors.groupby('vendor')['days between scheduled and delivered'].mean().reset_index()\n",
    "\n",
    "# Now create a boxplot for the average delivery speed of frequent vendors\n",
    "plt.figure(figsize=(15, 10))  # Adjust the size as needed\n",
    "sns.barplot(x='vendor', y='days between scheduled and delivered', data=vendor_delivery_speed_avg)\n",
    "plt.xticks(rotation=90)  \n",
    "plt.title('Average Delivery Speed Analysis by Vendor')\n",
    "plt.xlabel('Vendor')\n",
    "plt.ylabel('Average Delivery Speed (days)')\n",
    "plt.tight_layout() \n",
    "plt.show()"
   ]
  },
  {
   "cell_type": "code",
   "execution_count": null,
   "id": "e97749b6-154b-44c4-bb4d-9be429d5d018",
   "metadata": {
    "tags": []
   },
   "outputs": [],
   "source": [
    "df['days between scheduled and delivered']"
   ]
  },
  {
   "cell_type": "code",
   "execution_count": null,
   "id": "050754a8-2a41-441c-8846-4632000babf3",
   "metadata": {
    "tags": []
   },
   "outputs": [],
   "source": [
    "\n",
    "def top_vendors_by_continent(df):\n",
    "    top_vendors_by_continent = {}\n",
    "\n",
    "    continents = df['continent'].unique()\n",
    "    for continent in continents:\n",
    "        continent_df = df[df['continent'] == continent]\n",
    "        vendor_counts = continent_df['vendor'].value_counts()\n",
    "        top_vendors = vendor_counts.head(5)\n",
    "        top_vendors_by_continent[continent] = top_vendors\n",
    "\n",
    "    return top_vendors_by_continent\n",
    "\n",
    "def plot_top_vendors_by_continent(top_vendors_by_continent):\n",
    "    for continent, top_vendors in top_vendors_by_continent.items():\n",
    "        plt.figure(figsize=(10, 6))\n",
    "        top_vendors.plot(kind='bar', color='skyblue')\n",
    "        plt.title(f\"Top 5 Vendors in {continent}\")\n",
    "        plt.xlabel(\"Vendor\")\n",
    "        plt.ylabel(\"Transaction Count\")\n",
    "        plt.xticks(rotation=45, ha='right')\n",
    "        plt.tight_layout()\n",
    "        plt.show()\n",
    "\n",
    "# Assuming your filtered DataFrame is named 'filtered_df'\n",
    "top_vendors_by_continent = top_vendors_by_continent(df)\n",
    "plot_top_vendors_by_continent(top_vendors_by_continent)\n"
   ]
  },
  {
   "cell_type": "code",
   "execution_count": null,
   "id": "d0682283-724a-4883-ae26-97ce8338a57e",
   "metadata": {
    "tags": []
   },
   "outputs": [],
   "source": [
    "def top_vendors_by_shipping_cost_per_continent(df):\n",
    "    top_vendors_by_continent = {}\n",
    "\n",
    "    continents = df['continent'].unique()\n",
    "    for continent in continents:\n",
    "        continent_df = df[df['continent'] == continent]\n",
    "        vendor_shipping_cost = continent_df.groupby('vendor')['freight cost (usd)'].sum()\n",
    "        top_vendors = vendor_shipping_cost.nlargest(5)\n",
    "        top_vendors_by_continent[continent] = top_vendors\n",
    "        \n",
    "        # Plotting bar graph for each continent\n",
    "        plt.figure(figsize=(10, 6))\n",
    "        top_vendors.plot(kind='bar', color='orange')\n",
    "        plt.title(f\"Top 5 Vendors by Shipping Cost in {continent}\")\n",
    "        plt.xlabel(\"Vendor\")\n",
    "        plt.ylabel(\"Total Shipping Cost (USD)\")\n",
    "        plt.xticks(rotation=45, ha='right')\n",
    "        plt.tight_layout()\n",
    "        plt.show()\n",
    "\n",
    "    return top_vendors_by_continent\n",
    "\n",
    "# Assuming your filtered DataFrame is named 'filtered_df'\n",
    "top_vendors_by_shipping_cost_per_continent = top_vendors_by_shipping_cost_per_continent(df)\n",
    "print(top_vendors_by_shipping_cost_per_continent)\n",
    "\n",
    "\n",
    "SCMS from RDC  is the top vendor in the continents - Africa,North AMerica, SOuth AMerica. \n"
   ]
  },
  {
   "cell_type": "code",
   "execution_count": null,
   "id": "a99c9983-ad07-4cf6-bf06-787ed416b8e9",
   "metadata": {
    "tags": []
   },
   "outputs": [],
   "source": [
    "def top_vendors_by_frequency(df):\n",
    "    # Counting occurrences of each vendor and getting top 5\n",
    "    top_vendors = df['vendor'].value_counts().head(5)\n",
    "\n",
    "    # Plotting horizontal bar graph\n",
    "    plt.figure(figsize=(10, 6))\n",
    "    ax = top_vendors.plot(kind='barh', color='skyblue')\n",
    "    plt.title(\"Top 5 Most Frequent Vendors\", fontweight='bold')\n",
    "    plt.xlabel(\"Frequency\", fontweight='bold')\n",
    "    plt.ylabel(\"Vendor\", fontweight='bold')\n",
    "\n",
    "    # Adding value labels in the center of each bar and bolding the text\n",
    "    for i in ax.patches:\n",
    "        ax.text(i.get_width()/2, i.get_y() + 0.5*i.get_height(), str(round(i.get_width(), 2)),\n",
    "                va='center', ha='center', color='black', fontweight='bold')\n",
    "\n",
    "    plt.tight_layout()\n",
    "    plt.show()\n",
    "\n",
    "    return top_vendors\n",
    "\n",
    "# Assuming your DataFrame is named 'df'\n",
    "top_vendors = top_vendors_by_frequency(df)\n",
    "print(top_vendors)\n"
   ]
  },
  {
   "cell_type": "code",
   "execution_count": null,
   "id": "de203697-649b-44bc-b6b3-ac302ed515a9",
   "metadata": {
    "tags": []
   },
   "outputs": [],
   "source": [
    "import matplotlib.pyplot as plt\n",
    "\n",
    "def transactions_per_continent(df):\n",
    "    # Counting the number of transactions (rows) per continent\n",
    "    transaction_counts = df['continent'].value_counts()\n",
    "\n",
    "    # Plotting pie chart\n",
    "    fig, ax = plt.subplots(figsize=(8, 8))  # Create a figure and a set of subplots\n",
    "    wedges, texts, autotexts = ax.pie(transaction_counts, labels=transaction_counts.index, autopct='%1.1f%%', startangle=140, colors=plt.cm.Paired(range(len(transaction_counts))), wedgeprops={'linewidth': 2, 'edgecolor': 'black'})\n",
    "\n",
    "    # Set font properties for all text\n",
    "    for text in texts:\n",
    "        text.set_fontweight('bold')\n",
    "    for autotext in autotexts:\n",
    "        autotext.set_fontweight('bold')\n",
    "\n",
    "    # Set overall title\n",
    "    plt.title('Transactions Per Continent', fontweight='bold')\n",
    "\n",
    "    # Add a bold outline to the circle\n",
    "    ax.set_frame_on(True)  # Turn on the frame\n",
    "    ax.spines['geo'].set_linewidth(2)  # Set the width of the outline\n",
    "    ax.spines['geo'].set_color('black')  # Set the color of the outline\n",
    "\n",
    "    # Show plot\n",
    "    plt.show()\n",
    "\n",
    "    return transaction_counts\n",
    "\n",
    "# Assuming your DataFrame is named 'df' and has a 'continent' column with the continent names\n",
    "# You would call the function like this:\n",
    "transaction_counts = transactions_per_continent(df)\n",
    "print(transaction_counts)\n",
    "\n",
    "\n",
    "plt.savefig('/Users/USER/Downloads/Scripting Images/',transparent=True)  # Save with transparency\n",
    "    plt.show()\n"
   ]
  },
  {
   "cell_type": "code",
   "execution_count": null,
   "id": "736e6ca5-bd3c-4312-ad2e-76cfdcea8fe2",
   "metadata": {
    "tags": []
   },
   "outputs": [],
   "source": [
    "def transactions_per_continent(df):\n",
    "    # Counting the number of transactions (rows) per continent\n",
    "    transaction_counts = df['continent'].value_counts()\n",
    "    \n",
    "    # Plotting pie chart\n",
    "    fig, ax = plt.subplots(figsize=(8, 8), subplot_kw=dict(aspect=\"equal\"))  # Ensures the plot is square\n",
    "    wedges, texts, autotexts = ax.pie(transaction_counts, labels=transaction_counts.index, autopct='%1.1f%%', startangle=140,\n",
    "                                      colors=plt.cm.Set3(range(len(transaction_counts))), # Using Set3 colormap for vibrant, distinct colors\n",
    "                                      wedgeprops={'linewidth': 1, 'edgecolor': 'black'})\n",
    "\n",
    "    # Set font properties for all text\n",
    "    for text in texts:\n",
    "        text.set_fontweight('bold')\n",
    "    for autotext in autotexts:\n",
    "        autotext.set_fontweight('bold')\n",
    "\n",
    "    # Set overall title\n",
    "    plt.title('Transactions Per Continent', fontweight='bold')\n",
    "\n",
    "    # Making the spines (frame of the plot) bold and black\n",
    "    for spine in ax.spines.values():\n",
    "        spine.set_visible(True)\n",
    "        spine.set_linewidth(2)\n",
    "        spine.set_edgecolor('black')\n",
    "\n",
    "    # Show plot\n",
    "    plt.tight_layout()\n",
    "    plt.show()\n",
    "\n",
    "    # Save the figure\n",
    "    fig.savefig('Desktop/transactions_per_continent.png')  # Adjust path as necessary\n",
    "\n",
    "    return transaction_counts\n",
    "\n",
    "# Assuming your DataFrame is named 'df' and has a 'continent' column with the continent names\n",
    "# You would call the function like this:\n",
    "transaction_counts = transactions_per_continent(df)\n",
    "print(transaction_counts)\n"
   ]
  },
  {
   "cell_type": "code",
   "execution_count": null,
   "id": "c4d12dd9-635e-488f-8088-9e3ecbed6d11",
   "metadata": {
    "tags": []
   },
   "outputs": [],
   "source": [
    "os.getcwd()"
   ]
  },
  {
   "cell_type": "code",
   "execution_count": null,
   "id": "08f9de97-7f55-414b-bc26-2c2ea47c8840",
   "metadata": {
    "tags": []
   },
   "outputs": [],
   "source": [
    "df.info()"
   ]
  },
  {
   "cell_type": "code",
   "execution_count": null,
   "id": "70396f36-0fc9-408c-b2ad-15d324f5387b",
   "metadata": {},
   "outputs": [],
   "source": []
  }
 ],
 "metadata": {
  "kernelspec": {
   "display_name": "Python 3 (ipykernel)",
   "language": "python",
   "name": "python3"
  },
  "language_info": {
   "codemirror_mode": {
    "name": "ipython",
    "version": 3
   },
   "file_extension": ".py",
   "mimetype": "text/x-python",
   "name": "python",
   "nbconvert_exporter": "python",
   "pygments_lexer": "ipython3",
   "version": "3.11.7"
  }
 },
 "nbformat": 4,
 "nbformat_minor": 5
}
